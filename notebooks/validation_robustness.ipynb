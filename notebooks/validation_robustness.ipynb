{
 "cells": [
  {
   "cell_type": "markdown",
   "id": "brazilian-protection",
   "metadata": {},
   "source": [
    "# Robustness with validation primitives"
   ]
  },
  {
   "cell_type": "code",
   "execution_count": null,
   "id": "checked-facility",
   "metadata": {},
   "outputs": [],
   "source": [
    "import os\n",
    "import numpy as np\n",
    "import sympy as sp\n",
    "import torch\n",
    "from tqdm.notebook import tqdm\n",
    "import pandas as pd\n",
    "import random\n",
    "\n",
    "os.environ['CUDA_VISIBLE_DEVICES'] = '0'"
   ]
  },
  {
   "cell_type": "code",
   "execution_count": null,
   "id": "vertical-manufacturer",
   "metadata": {},
   "outputs": [],
   "source": [
    "import admath.utils as utils\n",
    "\n",
    "env, encoder, decoder = utils.load_env(\n",
    "    '/SymbolicMathematics', \n",
    "    '/fwd_bwd_ibp.pth'\n",
    ")"
   ]
  },
  {
   "cell_type": "markdown",
   "id": "heard-drinking",
   "metadata": {},
   "source": [
    "#### Collect examples from the validation set\n",
    "\n",
    "More specifically, those examples which do not have the operations in `exclude`."
   ]
  },
  {
   "cell_type": "code",
   "execution_count": null,
   "id": "coastal-cursor",
   "metadata": {},
   "outputs": [],
   "source": [
    "exclude = {\n",
    "   ' I ', 'asin', 'acos', 'atan', 'sinh', 'cosh', 'tanh', 'asinh', 'acosh', 'atanh'\n",
    "}\n",
    "\n",
    "ds = open('/prim_fwd.valid').readlines()\n",
    "ds_ = []\n",
    "for d in tqdm(ds, total=len(ds)):\n",
    "    temp = d.strip().split('|')\n",
    "    assert len(temp) == 2\n",
    "    temp = temp[1].split('\\t')\n",
    "    assert len(temp) == 2\n",
    "    x, y = temp\n",
    "    \n",
    "    skip = False\n",
    "    for op in exclude:\n",
    "        if op in x:\n",
    "            skip = True\n",
    "        if op in y:\n",
    "            skip = True\n",
    "    \n",
    "    if skip:\n",
    "        continue\n",
    "        \n",
    "    try:\n",
    "        x_prefix = env.clean_prefix(x.replace(\"sub Y' \", '').split())\n",
    "        y_prefix = env.clean_prefix(y.replace(\"sub Y' \", '').split())\n",
    "\n",
    "        ds_.append({\n",
    "            'x': env.infix_to_sympy(env.prefix_to_infix(x_prefix))\n",
    "        })\n",
    "    except:\n",
    "        pass\n",
    "ds = ds_\n",
    "len(ds)"
   ]
  },
  {
   "cell_type": "code",
   "execution_count": null,
   "id": "supported-persian",
   "metadata": {},
   "outputs": [],
   "source": [
    "import random\n",
    "[str(x['x']) for x in random.sample(ds, 10)]"
   ]
  },
  {
   "cell_type": "markdown",
   "id": "sustained-runner",
   "metadata": {},
   "source": [
    "### Run examples, then choose ones that succeeded as primitives"
   ]
  },
  {
   "cell_type": "code",
   "execution_count": null,
   "id": "bound-thanksgiving",
   "metadata": {},
   "outputs": [],
   "source": [
    "top_n = 50\n",
    "beam_size = 50\n",
    "N = 1000\n",
    "\n",
    "n_primitives = 100  # for coeff experiments\n",
    "\n",
    "results = {}"
   ]
  },
  {
   "cell_type": "code",
   "execution_count": null,
   "id": "cardiac-winner",
   "metadata": {},
   "outputs": [],
   "source": [
    "def parse_result(out, problems):\n",
    "    nc = len([x for x in out if x['correct']])\n",
    "    n = len(out)\n",
    "    return {\n",
    "        'n': n,\n",
    "        'accuracy': nc/n,\n",
    "        'failure': 1.0 - (nc/n),\n",
    "        'length': np.mean([len(str(x['x'])) for x in problems]),\n",
    "        'top_n': top_n\n",
    "    }"
   ]
  },
  {
   "cell_type": "code",
   "execution_count": null,
   "id": "composed-legend",
   "metadata": {},
   "outputs": [],
   "source": [
    "from admath.utils import run_and_check\n",
    "\n",
    "problems = random.sample(ds, N)\n",
    "out = run_and_check(problems, env, encoder, decoder, torch.device('cuda'), top_n, seconds=10, beam_size=beam_size)\n",
    "\n",
    "parse_result(out, problems)"
   ]
  },
  {
   "cell_type": "code",
   "execution_count": null,
   "id": "chicken-elizabeth",
   "metadata": {},
   "outputs": [],
   "source": [
    "primitives = [x for x in out if x['correct']]\n",
    "len(primitives)"
   ]
  },
  {
   "cell_type": "markdown",
   "id": "surgical-motel",
   "metadata": {},
   "source": [
    "#### Coeff 1\n",
    "\n",
    "\n",
    "$k*f()$"
   ]
  },
  {
   "cell_type": "code",
   "execution_count": null,
   "id": "vertical-colorado",
   "metadata": {},
   "outputs": [],
   "source": [
    "from admath.compositionality import random_tuples\n",
    "\n",
    "ranges = [(2, 100)] #, (101, 200), (2**9, 2**10)]\n",
    "for start, end in ranges:\n",
    "    coeffs = np.random.choice(range(start, end), size=(N//n_primitives,), replace=False)\n",
    "\n",
    "    problems = []\n",
    "    for prim in primitives[:n_primitives]:\n",
    "        for coeff in coeffs:\n",
    "            problems.append(\n",
    "                {'x': prim['x'] * coeff}\n",
    "            )\n",
    "\n",
    "    out = run_and_check(problems, env, encoder, decoder, torch.device('cuda'), top_n, seconds=10, beam_size=beam_size)\n",
    "\n",
    "    results['coeff_1_%d-%d' % (start, end)] = parse_result(out, problems)\n",
    "    print(results['coeff_1_%d-%d' % (start, end)])"
   ]
  },
  {
   "cell_type": "markdown",
   "id": "contained-cholesterol",
   "metadata": {},
   "source": [
    "#### Coeff 2\n",
    "\n",
    "\n",
    "$1/k*f()$"
   ]
  },
  {
   "cell_type": "code",
   "execution_count": null,
   "id": "settled-interference",
   "metadata": {},
   "outputs": [],
   "source": [
    "ranges = [(2, 100)] #, (101, 200), (2**9, 2**10)]\n",
    "for start, end in ranges:\n",
    "    coeffs = np.random.choice(range(start, end), size=(N//n_primitives,), replace=False)\n",
    "\n",
    "    problems = []\n",
    "    for prim in primitives[:n_primitives]:\n",
    "        for coeff in coeffs:\n",
    "            problems.append(\n",
    "                {'x': prim['x'] * 1/sp.S(coeff)}\n",
    "            )\n",
    "\n",
    "    out = run_and_check(problems, env, encoder, decoder, torch.device('cuda'), top_n, seconds=10, beam_size=beam_size)\n",
    "\n",
    "    results['coeff_2_%d-%d' % (start, end)] = parse_result(out, problems)\n",
    "    print(results['coeff_2_%d-%d' % (start, end)])"
   ]
  },
  {
   "cell_type": "markdown",
   "id": "intimate-steal",
   "metadata": {},
   "source": [
    "#### Add-perturb\n",
    "\n",
    "$f() + k*e^x$"
   ]
  },
  {
   "cell_type": "code",
   "execution_count": null,
   "id": "equipped-northeast",
   "metadata": {},
   "outputs": [],
   "source": [
    "perturb_funcs = ['exp(x)', 'ln(x)']\n",
    "for pf in perturb_funcs:\n",
    "    problems = []\n",
    "    for prim in primitives[:N]:\n",
    "        coeff = 1 \n",
    "        problems.append(\n",
    "            {'x': prim['x'] + (coeff*sp.S(pf))}\n",
    "        )\n",
    "\n",
    "    out = run_and_check(problems, env, encoder, decoder, torch.device('cuda'), top_n, seconds=10, beam_size=beam_size)\n",
    "\n",
    "    results['perturbfunc_%s' % (pf)] = parse_result(out, problems)\n",
    "    print(results['perturbfunc_%s' % (pf)])"
   ]
  },
  {
   "cell_type": "markdown",
   "id": "encouraging-replacement",
   "metadata": {},
   "source": [
    "#### Save"
   ]
  },
  {
   "cell_type": "code",
   "execution_count": null,
   "id": "alpine-automation",
   "metadata": {},
   "outputs": [],
   "source": [
    "import json\n",
    "with open('../output/validation_robustness_top%d.json' % top_n, 'w') as f:\n",
    "    json.dump(results, f)"
   ]
  },
  {
   "cell_type": "code",
   "execution_count": null,
   "id": "boxed-suite",
   "metadata": {},
   "outputs": [],
   "source": [
    "from pprint import pprint\n",
    "pprint(results)"
   ]
  },
  {
   "cell_type": "code",
   "execution_count": null,
   "id": "removed-career",
   "metadata": {},
   "outputs": [],
   "source": []
  }
 ],
 "metadata": {
  "kernelspec": {
   "display_name": "Python 3",
   "language": "python",
   "name": "python3"
  },
  "language_info": {
   "codemirror_mode": {
    "name": "ipython",
    "version": 3
   },
   "file_extension": ".py",
   "mimetype": "text/x-python",
   "name": "python",
   "nbconvert_exporter": "python",
   "pygments_lexer": "ipython3",
   "version": "3.8.10"
  }
 },
 "nbformat": 4,
 "nbformat_minor": 5
}
